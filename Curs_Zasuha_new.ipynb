{
 "cells": [
  {
   "cell_type": "markdown",
   "id": "ef648fea",
   "metadata": {},
   "source": [
    "Kaggle nickname - Sly RezZ"
   ]
  },
  {
   "cell_type": "markdown",
   "id": "ba9974e3",
   "metadata": {},
   "source": [
    "### Задание для курсового проекта <a class='anchor' id='course'>\n",
    "\n",
    "Метрика:\n",
    "R2 - коэффициент детерминации (sklearn.metrics.r2_score)\n",
    "\n",
    "Сдача проекта:\n",
    "1. Соревнование заканчивается 10.01.21\n",
    "2. Прислать в раздел Задания Урока 10 (\"Вебинар. Консультация по итоговому проекту\")\n",
    "ссылку на ноутбук в github или public kaggle notebook.\n",
    "3. Необходимо получить R2 > 0.6 на Private Leaderboard.\n",
    "4. Укажите свой ник на kaggle \n",
    "\n",
    "\n",
    "Примечание:\n",
    "Все файлы csv должны содержать названия полей (header - то есть \"шапку\"),\n",
    "разделитель - запятая. В файлах не должны содержаться индексы из датафрейма.\n",
    "____________\n",
    "Рекомендации для файла с кодом (ipynb):\n",
    "1. Файл должен содержать заголовки и комментарии\n",
    "2. Повторяющиеся операции лучше оформлять в виде функций\n",
    "3. По возможности добавлять графики, описывающие данные (около 3-5)\n",
    "4. Добавлять только лучшую модель, то есть не включать в код все варианты решения проекта\n",
    "5. Скрипт проекта должен отрабатывать от начала и до конца (от загрузки данных до выгрузки предсказаний)\n",
    "6. Весь проект должен быть в одном скрипте (файл ipynb).\n",
    "7. При использовании статистик (среднее, медиана и т.д.) в качестве признаков,\n",
    "лучше считать их на трейне, и потом на валидационных и тестовых данных не считать \n",
    "статистики заново, а брать их с трейна.\n",
    "8. Проект должен полностью отрабатывать за разумное время (не больше 10 минут),\n",
    "поэтому в финальный вариант лучше не включать GridSearch с перебором \n",
    "большого количества сочетаний параметров. "
   ]
  },
  {
   "cell_type": "markdown",
   "id": "9abed878",
   "metadata": {},
   "source": [
    "# Импорты библиотек и загрузка данных"
   ]
  },
  {
   "cell_type": "markdown",
   "id": "258460eb",
   "metadata": {},
   "source": [
    "## Подключение библиотек"
   ]
  },
  {
   "cell_type": "code",
   "execution_count": 1,
   "id": "dadc80c0",
   "metadata": {},
   "outputs": [],
   "source": [
    "import numpy as np\n",
    "import pandas as pd\n",
    "import pickle\n",
    "\n",
    "import matplotlib\n",
    "import matplotlib.image as img\n",
    "import matplotlib.pyplot as plt\n",
    "import seaborn as sns\n",
    "import sklearn as skl\n",
    "%matplotlib inline\n",
    "\n",
    "import random\n",
    "import warnings\n",
    "warnings.filterwarnings('ignore')\n",
    "\n",
    "from datetime import datetime\n",
    "from sklearn.model_selection import train_test_split, cross_val_score, KFold, GridSearchCV\n",
    "from sklearn.preprocessing import StandardScaler, RobustScaler, MinMaxScaler\n",
    "from sklearn.decomposition import PCA\n",
    "from sklearn.svm import SVR\n",
    "from sklearn.manifold import TSNE\n",
    "from sklearn.ensemble import RandomForestRegressor, GradientBoostingRegressor\n",
    "from sklearn.metrics import mean_squared_error as mse, r2_score as r2\n",
    "from sklearn.model_selection import train_test_split, KFold, GridSearchCV, RepeatedKFold\n",
    "from sklearn.linear_model import LinearRegression, ElasticNet, ElasticNetCV, Lasso, LassoCV\n",
    "from sklearn.tree import DecisionTreeRegressor, plot_tree\n",
    "from sklearn.preprocessing import StandardScaler\n",
    "from IPython.display import Image"
   ]
  },
  {
   "cell_type": "code",
   "execution_count": 2,
   "id": "23ef49d3",
   "metadata": {},
   "outputs": [],
   "source": [
    "matplotlib.rcParams.update({'font.size': 14})  # размер шрифта на графиках"
   ]
  },
  {
   "cell_type": "markdown",
   "id": "6e63a317",
   "metadata": {},
   "source": [
    "## Загрузка данных"
   ]
  },
  {
   "cell_type": "code",
   "execution_count": 3,
   "id": "c332b388",
   "metadata": {},
   "outputs": [],
   "source": [
    "TRAIN_DATASET_PATH = pd.read_csv('Data/train.csv')\n",
    "TEST_DATASET_PATH = pd.read_csv('Data/test.csv')"
   ]
  },
  {
   "cell_type": "code",
   "execution_count": 4,
   "id": "e1b5d27f",
   "metadata": {},
   "outputs": [],
   "source": [
    "train_df = TRAIN_DATASET_PATH\n",
    "test_df = TEST_DATASET_PATH"
   ]
  },
  {
   "cell_type": "code",
   "execution_count": 5,
   "id": "edf17e3a",
   "metadata": {},
   "outputs": [
    {
     "data": {
      "text/plain": [
       "True"
      ]
     },
     "execution_count": 5,
     "metadata": {},
     "output_type": "execute_result"
    }
   ],
   "source": [
    "train_df.shape[1] - 1 == test_df.shape[1]"
   ]
  },
  {
   "cell_type": "markdown",
   "id": "6b623cf5",
   "metadata": {},
   "source": [
    "## Используемые функции"
   ]
  },
  {
   "cell_type": "code",
   "execution_count": 6,
   "id": "07bc288f",
   "metadata": {},
   "outputs": [],
   "source": [
    "def evaluate_preds(true_values, pred_values, save=False):\n",
    "    \"\"\"Оценка качества модели и график preds vs true\"\"\"\n",
    "    \n",
    "    print(\"R2:\\t\" + str(round(r2(true_values, pred_values), 3)) + \"\\n\" +\n",
    "          \"RMSE:\\t\" + str(round(np.sqrt(mse(true_values, pred_values)), 3)) + \"\\n\" +\n",
    "          \"MSE:\\t\" + str(round(mse(true_values, pred_values), 3))\n",
    "         )\n",
    "    \n",
    "    plt.figure(figsize=(8,8))\n",
    "    \n",
    "    sns.scatterplot(x=pred_values, y=true_values)\n",
    "    plt.plot([0, 500000], [0, 500000], linestyle='--', color='black')  # диагональ, где true_values = pred_values\n",
    "    \n",
    "    plt.xlabel('Predicted values')\n",
    "    plt.ylabel('True values')\n",
    "    plt.title('True vs Predicted values')\n",
    "    \n",
    "    if save == True:\n",
    "        plt.savefig(REPORTS_FILE_PATH + 'report.png')\n",
    "    plt.show()"
   ]
  },
  {
   "cell_type": "code",
   "execution_count": 7,
   "id": "9f42cd8d",
   "metadata": {},
   "outputs": [],
   "source": [
    "# Изменение типа столбцов в указанном df на строковый\n",
    "def to_Str(df_, list):\n",
    "    for i in list:\n",
    "        df_[i] = df_[i].astype(str)"
   ]
  },
  {
   "cell_type": "code",
   "execution_count": 8,
   "id": "496d1698",
   "metadata": {},
   "outputs": [],
   "source": [
    "#обработка типов данных\n",
    "def reduce_mem_usage(df): \n",
    "    \"\"\" iterate through all the columns of a dataframe and modify the data type\n",
    "        to reduce memory usage.        \n",
    "    \"\"\"\n",
    "    start_mem = df.memory_usage().sum() / 1024**2\n",
    "    print('Memory usage of dataframe is {:.2f} MB'.format(start_mem))\n",
    "    \n",
    "    for col in df.columns:\n",
    "        col_type = df[col].dtype\n",
    "        \n",
    "        if col_type != object:\n",
    "            c_min = df[col].min()\n",
    "            c_max = df[col].max()\n",
    "            if str(col_type)[:3] == 'int':\n",
    "                if c_min > np.iinfo(np.int8).min and c_max < np.iinfo(np.int8).max:\n",
    "                    df[col] = df[col].astype(np.int8)\n",
    "                elif c_min > np.iinfo(np.int16).min and c_max < np.iinfo(np.int16).max:\n",
    "                    df[col] = df[col].astype(np.int16)\n",
    "                elif c_min > np.iinfo(np.int32).min and c_max < np.iinfo(np.int32).max:\n",
    "                    df[col] = df[col].astype(np.int32)\n",
    "                elif c_min > np.iinfo(np.int64).min and c_max < np.iinfo(np.int64).max:\n",
    "                    df[col] = df[col].astype(np.int64)  \n",
    "            else:\n",
    "                if c_min > np.finfo(np.float32).min and c_max < np.finfo(np.float32).max:\n",
    "                    df[col] = df[col].astype(np.float32)\n",
    "                else:\n",
    "                    df[col] = df[col].astype(np.float64)\n",
    "        else:\n",
    "            df[col] = df[col].astype('category')\n",
    "\n",
    "    end_mem = df.memory_usage().sum() / 1024**2\n",
    "    print('Memory usage after optimization is: {:.2f} MB'.format(end_mem))\n",
    "    print('Decreased by {:.1f}%'.format(100 * (start_mem - end_mem) / start_mem))\n",
    "    \n",
    "    return df"
   ]
  },
  {
   "cell_type": "code",
   "execution_count": 9,
   "id": "33c55bc9",
   "metadata": {},
   "outputs": [],
   "source": [
    "class DataPreprocessing:\n",
    "    def __init__(self):\n",
    "        self.medians = None\n",
    "        self.kitchen_square_quantile = None\n",
    "        self.this_time = None\n",
    "        self.districts_healthcare = None\n",
    "        \n",
    "    def fit(self, df_):\n",
    "        self.medians = df_.median()\n",
    "        self.kitchen_square_quantile = df_['KitchenSquare'].quantile(.975)\n",
    "        self.this_time = datetime.now().year\n",
    "        self.districts_healthcare = df_.groupby(['DistrictId'])['Healthcare_1'].agg('mean').to_dict()\n",
    "    \n",
    "    def transform(self, df_):  \n",
    "        \n",
    "        # корректировка года\n",
    "        df_['HouseYear_outlier'] = 0\n",
    "        this_time = datetime.now().year\n",
    "        df_.loc[df_['HouseYear'] > this_time, 'HouseYear_outlier'] = 1\n",
    "        df_.loc[df_['HouseYear'] > this_time, 'HouseYear'] = this_time \n",
    "        \n",
    "        # корректировка комнат\n",
    "        df_['Rooms_outlier'] = 0\n",
    "        df_.loc[(df_['Rooms'] == 0) | (df_['Rooms'] >=6), 'Rooms_outlier'] = 1\n",
    "        df_.loc[df_['Rooms'] == 0, 'Rooms'] = 1\n",
    "        df_.loc[df_['Rooms'] >= 6, 'Rooms'] = df_['Rooms'].median() \n",
    "        \n",
    "        # корректировка  площади        \n",
    "        df_['Square_outlier'] = 0\n",
    "        df_.loc[(df_['Square'] > 300),  'Square_outlier'] = 1 \n",
    "        df_.loc[df_['Square'] > 300, 'Square'] = df_.loc[df_['Square'] > 300, 'Square'] / 10\n",
    "        df_.loc[df_['Square'] > 300, 'Square'] = df_.loc[df_['Square'] > 300, 'Square'] / 10\n",
    "        \n",
    "        # корректировка плоащади кухни        \n",
    "        df_['KitchenSquare'].quantile(.975), df_['KitchenSquare'].quantile(.025)\n",
    "        condition = (df_['KitchenSquare'].isna()) | (df_['KitchenSquare'] > df_['KitchenSquare'].quantile(.975))    \n",
    "        df_.loc[condition, 'KitchenSquare'] = df_['KitchenSquare'].median()\n",
    "        df_.loc[df_['KitchenSquare'] < 3, 'KitchenSquare'] = 3\n",
    "    \n",
    "        # корректировка жилой площади\n",
    "        df_['LifeSquare_outlier'] = 0\n",
    "        df_.loc[(df_['LifeSquare'] > 300),  'LifeSquare_outlier'] = 1\n",
    "        df_.loc[df_['LifeSquare'] > 300, 'LifeSquare'] = df_.loc[df_['LifeSquare'] > 300, 'LifeSquare'] / 10 \n",
    "        df_.loc[df_['LifeSquare'] > 300, 'LifeSquare'] = df_.loc[df_['LifeSquare'] > 300, 'LifeSquare'] / 10\n",
    "        df_.loc[df_['LifeSquare']>df_['Square'], \\\n",
    "                     'LifeSquare'] = df_['Square'] - df_['KitchenSquare'] - 3\n",
    "        df_[df_['LifeSquare']>df_['Square']]\n",
    "        \n",
    "        # корректировка этажности дома и этажей квартир\n",
    "        df_['HouseFloor_outlier'] = 0\n",
    "        df_.loc[df_['HouseFloor'] == 0, 'HouseFloor_outlier'] = 1\n",
    "        df_.loc[df_['Floor'] > df_['HouseFloor'], 'HouseFloor_outlier'] = 1\n",
    "        df_.loc[df_['HouseFloor'] == 0, 'HouseFloor'] = df_['HouseFloor'].median()\n",
    "        floor_outliers = df_.loc[df_['Floor'] > df_['HouseFloor']].index\n",
    "        df_.loc[floor_outliers, 'Floor'] = df_.loc[floor_outliers, 'HouseFloor']\\\n",
    "                                                .apply(lambda x: random.randint(1, x))\n",
    "        \n",
    "        # корректировка пропусков\n",
    "        df_['LifeSquare_nan'] = 0\n",
    "        df_.loc[df_['LifeSquare'].isna(), 'LifeSquare_nan'] = 1\n",
    "        df_.loc[df_['LifeSquare'].isnull(), 'LifeSquare'] = df_['LifeSquare'].median()\n",
    "        df_['Healthcare_1_nan'] = 0\n",
    "        df_.loc[df_['Healthcare_1'].isna(), 'Healthcare_1_nan'] = 1\n",
    "        df_.loc[df_['Healthcare_1'].isnull(), 'Healthcare_1'] = df_['Healthcare_1'].median()  \n",
    "        \n",
    "        # Привидение категорий к бинарным признакам\n",
    "        df_.replace({'Ecology_2': {'A': 0, 'B': 1}}, inplace=True)\n",
    "        df_.replace({'Ecology_3': {'A': 0, 'B': 1}}, inplace=True)\n",
    "        df_.replace({'Shops_2': {'A': 0, 'B': 1}}, inplace=True)\n",
    "        \n",
    "        # заполняем Healthcare_1, опираясь на DistrictId (если естьв районе)\n",
    "        df_.loc[df_['Healthcare_1'].isna(), 'Healthcare_1'] = df_['DistrictId'].map(self.districts_healthcare)\n",
    "        df_['Healthcare_1'].fillna(self.medians.Healthcare_1, inplace=True)       \n",
    "        q_max = np.quantile(df_['Healthcare_1'], q=0.9)\n",
    "        df_['Healthcare_1'].clip(upper=q_max, axis=0, inplace=True)\n",
    "        \n",
    "        # убираем Id\n",
    "       # df_.drop(['Id'], axis=1, inplace=True)\n",
    "        \n",
    "        # заполнение любых пропусков\n",
    "        df_.fillna(self.medians, inplace=True)\n",
    "        \n",
    "        return df_    \n",
    "        \n",
    "        "
   ]
  },
  {
   "cell_type": "code",
   "execution_count": 10,
   "id": "21f574ef",
   "metadata": {},
   "outputs": [],
   "source": [
    "class FeatureGenerator2():\n",
    "    \n",
    "    def __init__(self):\n",
    "        self.district_size = None\n",
    "        self.floor_max = None\n",
    "        self.house_year_max = None\n",
    "        self.med_price_by_floor_year = None\n",
    "        self.med_price_by_district = None\n",
    "        self.districts_median_year = None\n",
    "        #self.districts_density = None\n",
    "\n",
    "        \n",
    "    def fit(self, X, y = None):\n",
    "        X = X.copy()\n",
    "        \n",
    "        self.district_size = X['DistrictId'].value_counts().reset_index() \\\n",
    "                               .rename(columns={'index':'DistrictId', 'DistrictId':'DistrictSize'})\n",
    "        \n",
    "        self.districts_median_year = X.groupby(['DistrictId'])['HouseYear'].agg('median').to_dict()\n",
    "        #self.districts_density = X.groupby(['DistrictId'])['Square'].agg('median').to_dict() \n",
    "        \n",
    "        \n",
    "        df = X.copy() \n",
    "        if y is not None:\n",
    "            df['Price'] = y.values\n",
    "            \n",
    "            self.med_price_by_district = df.groupby(['DistrictId', 'Rooms'], as_index=False).agg({'Price':'median'})\\\n",
    "                                            .rename(columns={'Price':'MedPriceByDistrict'})\n",
    "            \n",
    "            self.med_price_by_district_median = self.med_price_by_district['MedPriceByDistrict'].median()\n",
    "            \n",
    "        ## floor, year\n",
    "        if y is not None:\n",
    "            self.floor_max = df['Floor'].max()\n",
    "            self.house_year_max = df['HouseYear'].max()\n",
    "            df['Price'] = y.values\n",
    "            df = self.floor_to_cat(df)\n",
    "            df = self.year_to_cat(df)\n",
    "            self.med_price_by_floor_year = df.groupby(['year_cat', 'floor_cat'], as_index=False).agg({'Price':'median'}).\\\n",
    "                                            rename(columns={'Price':'MedPriceByFloorYear'})\n",
    "            self.med_price_by_floor_year_median = self.med_price_by_floor_year['MedPriceByFloorYear'].median()\n",
    "        \n",
    "        \n",
    "        \n",
    "    def transform(self, X):\n",
    "        X = X.merge(self.district_size, on='DistrictId', how='left')\n",
    "        X['DistrictSize'].fillna(5, inplace=True)\n",
    "        X['IsDistrictLarge'] = (X['DistrictSize'] > 100).astype(int)\n",
    "        X['new_district'] = 0\n",
    "        X.loc[X['DistrictSize'].isna(), 'new_district'] = 1       \n",
    "        X = self.floor_to_cat(X)  # + столбец floor_cat\n",
    "        X = self.year_to_cat(X)   # + столбец year_cat                                             \n",
    "\n",
    "        if self.med_price_by_district is not None:\n",
    "            X = X.merge(self.med_price_by_district, on=['DistrictId', 'Rooms'], how='left')\n",
    "            X['MedPriceByDistrict'].fillna(self.med_price_by_district_median, inplace=True)\n",
    "            \n",
    "        if self.med_price_by_floor_year is not None:\n",
    "            X = X.merge(self.med_price_by_floor_year, on=['year_cat', 'floor_cat'], how='left')\n",
    "            X['MedPriceByFloorYear'].fillna(self.med_price_by_floor_year_median, inplace=True)\n",
    "        \n",
    "        X['DistrictYear'] = X['DistrictId'].map(self.districts_median_year)\n",
    "        self.median_district_year = X['DistrictYear'].median()\n",
    "        X['DistrictYear'].fillna(self.median_district_year, inplace=True)\n",
    "        \n",
    "        #X['DistrictDensity'] = X['DistrictId'].map(self.districts_density)\n",
    "\n",
    "\n",
    "        \n",
    "        return X\n",
    "    \n",
    "    \n",
    "    def floor_to_cat(self, X):\n",
    "        X['floor_cat'] = 0\n",
    "        X.loc[X['Floor'] <= 3, 'floor_cat'] = 1  \n",
    "        X.loc[(X['Floor'] > 3) & (X['Floor'] <= 5), 'floor_cat'] = 2\n",
    "        X.loc[(X['Floor'] > 5) & (X['Floor'] <= 9), 'floor_cat'] = 3\n",
    "        X.loc[(X['Floor'] > 9) & (X['Floor'] <= 15), 'floor_cat'] = 4\n",
    "        X.loc[X['Floor'] > 15, 'floor_cat'] = 5\n",
    "        return X\n",
    "     \n",
    "    def year_to_cat(self, X):\n",
    "        X['year_cat'] = 0\n",
    "        X.loc[X['HouseYear'] <= 1941, 'year_cat'] = 1\n",
    "        X.loc[(X['HouseYear'] > 1941) & (X['HouseYear'] <= 1945), 'year_cat'] = 2\n",
    "        X.loc[(X['HouseYear'] > 1945) & (X['HouseYear'] <= 1980), 'year_cat'] = 3\n",
    "        X.loc[(X['HouseYear'] > 1980) & (X['HouseYear'] <= 2000), 'year_cat'] = 4\n",
    "        X.loc[(X['HouseYear'] > 2000) & (X['HouseYear'] <= 2010), 'year_cat'] = 5\n",
    "        X.loc[(X['HouseYear'] > 2010), 'year_cat'] = 6\n",
    "        return X"
   ]
  },
  {
   "cell_type": "markdown",
   "id": "9dba1f11",
   "metadata": {},
   "source": [
    "# EDA \\ Работа с данными"
   ]
  },
  {
   "cell_type": "markdown",
   "id": "d733a7bd",
   "metadata": {},
   "source": [
    "### Имеющиеся данные:\n",
    "* 'Id' - id объекта\n",
    "* 'DistrictId' - id района\n",
    "* 'Rooms' - кол-во комнат\n",
    "* 'Square' - площадь\n",
    "* 'LifeSquare' - жилая площадь\n",
    "* 'KitchenSquare - площадь кухни\n",
    "* 'Floor' - этаж\n",
    "* 'HouseFloor' - этажность дома\n",
    "* 'HouseYear' - год постройки дома\n",
    "* 'Ecology_1' - экологические показатели\n",
    "* 'Ecology_2' - экологические показатели\n",
    "* 'Ecology_3' - экологические показатели\n",
    "* 'Social_1' - социальнные показатели\n",
    "* 'Social_2' - социальнные показатели\n",
    "* 'Social_3' - социальнные показатели\n",
    "* 'Healthcare_1' - показатели местности связанные с охраной здоровья\n",
    "* 'Helthcare_2' - показатели местности связанные с охраной здоровья\n",
    "* 'Shops_1' - показатели связанные с наличием магазинов и торг.центров\n",
    "* 'Shops_2' - показатели связанные с наличием магазинов и торг.центров\n",
    "* 'Price' - Цена"
   ]
  },
  {
   "cell_type": "code",
   "execution_count": 11,
   "id": "c7b78cb2",
   "metadata": {},
   "outputs": [
    {
     "data": {
      "image/png": "[encoded data removed]",
      "text/plain": [
       "<Figure size 1152x576 with 1 Axes>"
      ]
     },
     "metadata": {
      "needs_background": "light"
     },
     "output_type": "display_data"
    }
   ],
   "source": [
    "plt.figure(figsize = (16, 8))\n",
    "\n",
    "train_df['Price'].hist(bins=30)\n",
    "plt.ylabel('Кол-во объектов')\n",
    "plt.xlabel('Стоимость')\n",
    "\n",
    "plt.show()"
   ]
  },
  {
   "cell_type": "code",
   "execution_count": 12,
   "id": "a45be435",
   "metadata": {},
   "outputs": [
    {
     "data": {
      "image/png": "[encoded data removed]",
      "text/plain": [
       "<Figure size 1152x1152 with 9 Axes>"
      ]
     },
     "metadata": {
      "needs_background": "light"
     },
     "output_type": "display_data"
    }
   ],
   "source": [
    "df_num_features = train_df.select_dtypes(include=['float64', 'float32', 'float16'])\n",
    "\n",
    "df_num_features.hist(figsize=(16, 16), bins=20, grid=False);"
   ]
  },
  {
   "cell_type": "code",
   "execution_count": 13,
   "id": "8416725a",
   "metadata": {},
   "outputs": [
    {
     "data": {
      "text/html": [
       "<div>\n",
       "<style scoped>\n",
       "    .dataframe tbody tr th:only-of-type {\n",
       "        vertical-align: middle;\n",
       "    }\n",
       "\n",
       "    .dataframe tbody tr th {\n",
       "        vertical-align: top;\n",
       "    }\n",
       "\n",
       "    .dataframe thead th {\n",
       "        text-align: right;\n",
       "    }\n",
       "</style>\n",
       "<table border=\"1\" class=\"dataframe\">\n",
       "  <thead>\n",
       "    <tr style=\"text-align: right;\">\n",
       "      <th></th>\n",
       "      <th>count</th>\n",
       "      <th>mean</th>\n",
       "      <th>std</th>\n",
       "      <th>min</th>\n",
       "      <th>25%</th>\n",
       "      <th>50%</th>\n",
       "      <th>75%</th>\n",
       "      <th>max</th>\n",
       "    </tr>\n",
       "  </thead>\n",
       "  <tbody>\n",
       "    <tr>\n",
       "      <th>Id</th>\n",
       "      <td>10000.0</td>\n",
       "      <td>8383.407700</td>\n",
       "      <td>4859.019020</td>\n",
       "      <td>0.000000</td>\n",
       "      <td>4169.500000</td>\n",
       "      <td>8394.500000</td>\n",
       "      <td>12592.500000</td>\n",
       "      <td>1.679800e+04</td>\n",
       "    </tr>\n",
       "    <tr>\n",
       "      <th>DistrictId</th>\n",
       "      <td>10000.0</td>\n",
       "      <td>50.400800</td>\n",
       "      <td>43.587592</td>\n",
       "      <td>0.000000</td>\n",
       "      <td>20.000000</td>\n",
       "      <td>36.000000</td>\n",
       "      <td>75.000000</td>\n",
       "      <td>2.090000e+02</td>\n",
       "    </tr>\n",
       "    <tr>\n",
       "      <th>Rooms</th>\n",
       "      <td>10000.0</td>\n",
       "      <td>1.890500</td>\n",
       "      <td>0.839512</td>\n",
       "      <td>0.000000</td>\n",
       "      <td>1.000000</td>\n",
       "      <td>2.000000</td>\n",
       "      <td>2.000000</td>\n",
       "      <td>1.900000e+01</td>\n",
       "    </tr>\n",
       "    <tr>\n",
       "      <th>Square</th>\n",
       "      <td>10000.0</td>\n",
       "      <td>56.315775</td>\n",
       "      <td>21.058732</td>\n",
       "      <td>1.136859</td>\n",
       "      <td>41.774881</td>\n",
       "      <td>52.513310</td>\n",
       "      <td>65.900625</td>\n",
       "      <td>6.410652e+02</td>\n",
       "    </tr>\n",
       "    <tr>\n",
       "      <th>LifeSquare</th>\n",
       "      <td>7887.0</td>\n",
       "      <td>37.199645</td>\n",
       "      <td>86.241209</td>\n",
       "      <td>0.370619</td>\n",
       "      <td>22.769832</td>\n",
       "      <td>32.781260</td>\n",
       "      <td>45.128803</td>\n",
       "      <td>7.480592e+03</td>\n",
       "    </tr>\n",
       "    <tr>\n",
       "      <th>KitchenSquare</th>\n",
       "      <td>10000.0</td>\n",
       "      <td>6.273300</td>\n",
       "      <td>28.560917</td>\n",
       "      <td>0.000000</td>\n",
       "      <td>1.000000</td>\n",
       "      <td>6.000000</td>\n",
       "      <td>9.000000</td>\n",
       "      <td>2.014000e+03</td>\n",
       "    </tr>\n",
       "    <tr>\n",
       "      <th>Floor</th>\n",
       "      <td>10000.0</td>\n",
       "      <td>8.526700</td>\n",
       "      <td>5.241148</td>\n",
       "      <td>1.000000</td>\n",
       "      <td>4.000000</td>\n",
       "      <td>7.000000</td>\n",
       "      <td>12.000000</td>\n",
       "      <td>4.200000e+01</td>\n",
       "    </tr>\n",
       "    <tr>\n",
       "      <th>HouseFloor</th>\n",
       "      <td>10000.0</td>\n",
       "      <td>12.609400</td>\n",
       "      <td>6.775974</td>\n",
       "      <td>0.000000</td>\n",
       "      <td>9.000000</td>\n",
       "      <td>13.000000</td>\n",
       "      <td>17.000000</td>\n",
       "      <td>1.170000e+02</td>\n",
       "    </tr>\n",
       "    <tr>\n",
       "      <th>HouseYear</th>\n",
       "      <td>10000.0</td>\n",
       "      <td>3990.166300</td>\n",
       "      <td>200500.261427</td>\n",
       "      <td>1910.000000</td>\n",
       "      <td>1974.000000</td>\n",
       "      <td>1977.000000</td>\n",
       "      <td>2001.000000</td>\n",
       "      <td>2.005201e+07</td>\n",
       "    </tr>\n",
       "    <tr>\n",
       "      <th>Ecology_1</th>\n",
       "      <td>10000.0</td>\n",
       "      <td>0.118858</td>\n",
       "      <td>0.119025</td>\n",
       "      <td>0.000000</td>\n",
       "      <td>0.017647</td>\n",
       "      <td>0.075424</td>\n",
       "      <td>0.195781</td>\n",
       "      <td>5.218671e-01</td>\n",
       "    </tr>\n",
       "    <tr>\n",
       "      <th>Social_1</th>\n",
       "      <td>10000.0</td>\n",
       "      <td>24.687000</td>\n",
       "      <td>17.532614</td>\n",
       "      <td>0.000000</td>\n",
       "      <td>6.000000</td>\n",
       "      <td>25.000000</td>\n",
       "      <td>36.000000</td>\n",
       "      <td>7.400000e+01</td>\n",
       "    </tr>\n",
       "    <tr>\n",
       "      <th>Social_2</th>\n",
       "      <td>10000.0</td>\n",
       "      <td>5352.157400</td>\n",
       "      <td>4006.799803</td>\n",
       "      <td>168.000000</td>\n",
       "      <td>1564.000000</td>\n",
       "      <td>5285.000000</td>\n",
       "      <td>7227.000000</td>\n",
       "      <td>1.908300e+04</td>\n",
       "    </tr>\n",
       "    <tr>\n",
       "      <th>Social_3</th>\n",
       "      <td>10000.0</td>\n",
       "      <td>8.039200</td>\n",
       "      <td>23.831875</td>\n",
       "      <td>0.000000</td>\n",
       "      <td>0.000000</td>\n",
       "      <td>2.000000</td>\n",
       "      <td>5.000000</td>\n",
       "      <td>1.410000e+02</td>\n",
       "    </tr>\n",
       "    <tr>\n",
       "      <th>Healthcare_1</th>\n",
       "      <td>5202.0</td>\n",
       "      <td>1142.904460</td>\n",
       "      <td>1021.517264</td>\n",
       "      <td>0.000000</td>\n",
       "      <td>350.000000</td>\n",
       "      <td>900.000000</td>\n",
       "      <td>1548.000000</td>\n",
       "      <td>4.849000e+03</td>\n",
       "    </tr>\n",
       "    <tr>\n",
       "      <th>Helthcare_2</th>\n",
       "      <td>10000.0</td>\n",
       "      <td>1.319500</td>\n",
       "      <td>1.493601</td>\n",
       "      <td>0.000000</td>\n",
       "      <td>0.000000</td>\n",
       "      <td>1.000000</td>\n",
       "      <td>2.000000</td>\n",
       "      <td>6.000000e+00</td>\n",
       "    </tr>\n",
       "    <tr>\n",
       "      <th>Shops_1</th>\n",
       "      <td>10000.0</td>\n",
       "      <td>4.231300</td>\n",
       "      <td>4.806341</td>\n",
       "      <td>0.000000</td>\n",
       "      <td>1.000000</td>\n",
       "      <td>3.000000</td>\n",
       "      <td>6.000000</td>\n",
       "      <td>2.300000e+01</td>\n",
       "    </tr>\n",
       "    <tr>\n",
       "      <th>Price</th>\n",
       "      <td>10000.0</td>\n",
       "      <td>214138.857399</td>\n",
       "      <td>92872.293865</td>\n",
       "      <td>59174.778028</td>\n",
       "      <td>153872.633942</td>\n",
       "      <td>192269.644879</td>\n",
       "      <td>249135.462171</td>\n",
       "      <td>6.332335e+05</td>\n",
       "    </tr>\n",
       "  </tbody>\n",
       "</table>\n",
       "</div>"
      ],
      "text/plain": [
       "                 count           mean            std           min  \\\n",
       "Id             10000.0    8383.407700    4859.019020      0.000000   \n",
       "DistrictId     10000.0      50.400800      43.587592      0.000000   \n",
       "Rooms          10000.0       1.890500       0.839512      0.000000   \n",
       "Square         10000.0      56.315775      21.058732      1.136859   \n",
       "LifeSquare      7887.0      37.199645      86.241209      0.370619   \n",
       "KitchenSquare  10000.0       6.273300      28.560917      0.000000   \n",
       "Floor          10000.0       8.526700       5.241148      1.000000   \n",
       "HouseFloor     10000.0      12.609400       6.775974      0.000000   \n",
       "HouseYear      10000.0    3990.166300  200500.261427   1910.000000   \n",
       "Ecology_1      10000.0       0.118858       0.119025      0.000000   \n",
       "Social_1       10000.0      24.687000      17.532614      0.000000   \n",
       "Social_2       10000.0    5352.157400    4006.799803    168.000000   \n",
       "Social_3       10000.0       8.039200      23.831875      0.000000   \n",
       "Healthcare_1    5202.0    1142.904460    1021.517264      0.000000   \n",
       "Helthcare_2    10000.0       1.319500       1.493601      0.000000   \n",
       "Shops_1        10000.0       4.231300       4.806341      0.000000   \n",
       "Price          10000.0  214138.857399   92872.293865  59174.778028   \n",
       "\n",
       "                         25%            50%            75%           max  \n",
       "Id               4169.500000    8394.500000   12592.500000  1.679800e+04  \n",
       "DistrictId         20.000000      36.000000      75.000000  2.090000e+02  \n",
       "Rooms               1.000000       2.000000       2.000000  1.900000e+01  \n",
       "Square             41.774881      52.513310      65.900625  6.410652e+02  \n",
       "LifeSquare         22.769832      32.781260      45.128803  7.480592e+03  \n",
       "KitchenSquare       1.000000       6.000000       9.000000  2.014000e+03  \n",
       "Floor               4.000000       7.000000      12.000000  4.200000e+01  \n",
       "HouseFloor          9.000000      13.000000      17.000000  1.170000e+02  \n",
       "HouseYear        1974.000000    1977.000000    2001.000000  2.005201e+07  \n",
       "Ecology_1           0.017647       0.075424       0.195781  5.218671e-01  \n",
       "Social_1            6.000000      25.000000      36.000000  7.400000e+01  \n",
       "Social_2         1564.000000    5285.000000    7227.000000  1.908300e+04  \n",
       "Social_3            0.000000       2.000000       5.000000  1.410000e+02  \n",
       "Healthcare_1      350.000000     900.000000    1548.000000  4.849000e+03  \n",
       "Helthcare_2         0.000000       1.000000       2.000000  6.000000e+00  \n",
       "Shops_1             1.000000       3.000000       6.000000  2.300000e+01  \n",
       "Price          153872.633942  192269.644879  249135.462171  6.332335e+05  "
      ]
     },
     "execution_count": 13,
     "metadata": {},
     "output_type": "execute_result"
    }
   ],
   "source": [
    "train_df.describe().transpose()"
   ]
  },
  {
   "cell_type": "code",
   "execution_count": 14,
   "id": "143d6740",
   "metadata": {},
   "outputs": [
    {
     "name": "stdout",
     "output_type": "stream",
     "text": [
      "<class 'pandas.core.frame.DataFrame'>\n",
      "RangeIndex: 10000 entries, 0 to 9999\n",
      "Data columns (total 20 columns):\n",
      " #   Column         Non-Null Count  Dtype  \n",
      "---  ------         --------------  -----  \n",
      " 0   Id             10000 non-null  int64  \n",
      " 1   DistrictId     10000 non-null  int64  \n",
      " 2   Rooms          10000 non-null  float64\n",
      " 3   Square         10000 non-null  float64\n",
      " 4   LifeSquare     7887 non-null   float64\n",
      " 5   KitchenSquare  10000 non-null  float64\n",
      " 6   Floor          10000 non-null  int64  \n",
      " 7   HouseFloor     10000 non-null  float64\n",
      " 8   HouseYear      10000 non-null  int64  \n",
      " 9   Ecology_1      10000 non-null  float64\n",
      " 10  Ecology_2      10000 non-null  object \n",
      " 11  Ecology_3      10000 non-null  object \n",
      " 12  Social_1       10000 non-null  int64  \n",
      " 13  Social_2       10000 non-null  int64  \n",
      " 14  Social_3       10000 non-null  int64  \n",
      " 15  Healthcare_1   5202 non-null   float64\n",
      " 16  Helthcare_2    10000 non-null  int64  \n",
      " 17  Shops_1        10000 non-null  int64  \n",
      " 18  Shops_2        10000 non-null  object \n",
      " 19  Price          10000 non-null  float64\n",
      "dtypes: float64(8), int64(9), object(3)\n",
      "memory usage: 1.5+ MB\n"
     ]
    }
   ],
   "source": [
    "train_df.info()"
   ]
  },
  {
   "cell_type": "markdown",
   "id": "2d3f317b",
   "metadata": {},
   "source": [
    "* Обратил внимание, что LifeSquare и Healthcare_1 имеют не заполненные поля"
   ]
  },
  {
   "cell_type": "markdown",
   "id": "ba1d1049",
   "metadata": {},
   "source": [
    "### Оптимизация типов данных и используемой памяти"
   ]
  },
  {
   "cell_type": "code",
   "execution_count": 15,
   "id": "87b2956f",
   "metadata": {},
   "outputs": [],
   "source": [
    "to_Str(train_df, ('Id','DistrictId'))\n",
    "to_Str(test_df, ('Id','DistrictId'))"
   ]
  },
  {
   "cell_type": "code",
   "execution_count": 16,
   "id": "4dc5eb57",
   "metadata": {},
   "outputs": [
    {
     "name": "stdout",
     "output_type": "stream",
     "text": [
      "Memory usage of dataframe is 1.53 MB\n",
      "Memory usage after optimization is: 0.82 MB\n",
      "Decreased by 46.0%\n"
     ]
    }
   ],
   "source": [
    "train_df = reduce_mem_usage(train_df)"
   ]
  },
  {
   "cell_type": "code",
   "execution_count": 17,
   "id": "a86bdd0f",
   "metadata": {},
   "outputs": [
    {
     "name": "stdout",
     "output_type": "stream",
     "text": [
      "Memory usage of dataframe is 0.72 MB\n",
      "Memory usage after optimization is: 0.39 MB\n",
      "Decreased by 46.4%\n"
     ]
    }
   ],
   "source": [
    "test_df = reduce_mem_usage(test_df)"
   ]
  },
  {
   "cell_type": "code",
   "execution_count": 18,
   "id": "cd9bdcfa",
   "metadata": {},
   "outputs": [
    {
     "name": "stdout",
     "output_type": "stream",
     "text": [
      "<class 'pandas.core.frame.DataFrame'>\n",
      "RangeIndex: 10000 entries, 0 to 9999\n",
      "Data columns (total 20 columns):\n",
      " #   Column         Non-Null Count  Dtype   \n",
      "---  ------         --------------  -----   \n",
      " 0   Id             10000 non-null  category\n",
      " 1   DistrictId     10000 non-null  category\n",
      " 2   Rooms          10000 non-null  float32 \n",
      " 3   Square         10000 non-null  float32 \n",
      " 4   LifeSquare     7887 non-null   float32 \n",
      " 5   KitchenSquare  10000 non-null  float32 \n",
      " 6   Floor          10000 non-null  int8    \n",
      " 7   HouseFloor     10000 non-null  float32 \n",
      " 8   HouseYear      10000 non-null  int32   \n",
      " 9   Ecology_1      10000 non-null  float32 \n",
      " 10  Ecology_2      10000 non-null  category\n",
      " 11  Ecology_3      10000 non-null  category\n",
      " 12  Social_1       10000 non-null  int8    \n",
      " 13  Social_2       10000 non-null  int16   \n",
      " 14  Social_3       10000 non-null  int16   \n",
      " 15  Healthcare_1   5202 non-null   float32 \n",
      " 16  Helthcare_2    10000 non-null  int8    \n",
      " 17  Shops_1        10000 non-null  int8    \n",
      " 18  Shops_2        10000 non-null  category\n",
      " 19  Price          10000 non-null  float32 \n",
      "dtypes: category(5), float32(8), int16(2), int32(1), int8(4)\n",
      "memory usage: 844.4 KB\n"
     ]
    }
   ],
   "source": [
    "train_df.info()"
   ]
  },
  {
   "cell_type": "code",
   "execution_count": 19,
   "id": "4e4fa5da",
   "metadata": {},
   "outputs": [],
   "source": [
    "preprocessor = DataPreprocessing()\n",
    "preprocessor.fit(train_df)\n",
    "train_df = preprocessor.transform(train_df)\n",
    "test_df = preprocessor.transform(test_df)"
   ]
  },
  {
   "cell_type": "code",
   "execution_count": 20,
   "id": "ef49ad26",
   "metadata": {},
   "outputs": [],
   "source": [
    "features_gen = FeatureGenerator2()\n",
    "features_gen.fit(train_df)\n",
    "train_df = features_gen.transform(train_df)\n",
    "test_df = features_gen.transform(test_df)"
   ]
  },
  {
   "cell_type": "code",
   "execution_count": 21,
   "id": "cca6a595",
   "metadata": {},
   "outputs": [
    {
     "data": {
      "image/png": "[encoded data removed]",
      "text/plain": [
       "<Figure size 1152x1152 with 9 Axes>"
      ]
     },
     "metadata": {
      "needs_background": "light"
     },
     "output_type": "display_data"
    }
   ],
   "source": [
    "df_num_features = train_df.select_dtypes(include=['float64', 'float32', 'float16'])\n",
    "\n",
    "df_num_features.hist(figsize=(16, 16), bins=20, grid=False);"
   ]
  },
  {
   "cell_type": "markdown",
   "id": "d3675ffa",
   "metadata": {},
   "source": [
    "## Модельки"
   ]
  },
  {
   "cell_type": "code",
   "execution_count": 22,
   "id": "7a084084",
   "metadata": {},
   "outputs": [],
   "source": [
    "y = pd.DataFrame(data=train_df['Price'])\n",
    "train_df.drop('Price', axis=1, inplace=True)\n",
    "X_train, X_test, y_train, y_test = train_test_split(train_df, y, test_size=0.15, random_state=100)"
   ]
  },
  {
   "cell_type": "code",
   "execution_count": 23,
   "id": "0bdcd80f",
   "metadata": {},
   "outputs": [
    {
     "name": "stdout",
     "output_type": "stream",
     "text": [
      "0.859777935847934\n",
      "0.7554685735109776\n"
     ]
    }
   ],
   "source": [
    "gb_model = GradientBoostingRegressor(criterion='mse',\n",
    "                                     max_depth=6,\n",
    "                                     min_samples_leaf=50,\n",
    "                                     random_state=42,  \n",
    "                                     n_estimators=2250, \n",
    "                                     max_features='sqrt', \n",
    "                                     loss='huber', \n",
    "                                     learning_rate=0.025)\n",
    "\n",
    "gb_model.fit(X_train, y_train)\n",
    "\n",
    "y_train_preds = gb_model.predict(X_train)\n",
    "y_test_preds = gb_model.predict(X_test)\n",
    "\n",
    "print(r2(y_train, y_train_preds))\n",
    "print(r2(y_test, y_test_preds))"
   ]
  },
  {
   "cell_type": "code",
   "execution_count": 24,
   "id": "a3c835d3",
   "metadata": {},
   "outputs": [],
   "source": [
    "submit = pd.read_csv('Data/sample_submission.csv')\n",
    "predictions = gb_model.predict(test_df)\n",
    "submit['Price'] = predictions\n",
    "submit.to_csv('gb_model_submit.csv', index=False)"
   ]
  },
  {
   "cell_type": "code",
   "execution_count": 25,
   "id": "cba2dfe4",
   "metadata": {},
   "outputs": [
    {
     "name": "stdout",
     "output_type": "stream",
     "text": [
      "0.9284859158107671\n",
      "0.7483694519034636\n"
     ]
    }
   ],
   "source": [
    "gb_model2 = GradientBoostingRegressor(n_estimators=100, max_depth=7, random_state=21,max_features=15)\n",
    "\n",
    "\n",
    "gb_model2.fit(X_train, y_train)\n",
    "\n",
    "\n",
    "y_train_preds = gb_model2.predict(X_train)\n",
    "y_test_preds = gb_model2.predict(X_test)\n",
    "\n",
    "print(r2(y_train, y_train_preds))\n",
    "print(r2(y_test, y_test_preds))"
   ]
  },
  {
   "cell_type": "code",
   "execution_count": 26,
   "id": "d97ce787",
   "metadata": {},
   "outputs": [],
   "source": [
    "submit = pd.read_csv('Data/sample_submission.csv')\n",
    "predictions = gb_model2.predict(test_df)\n",
    "submit['Price'] = predictions\n",
    "submit.to_csv('gb_model2_submit.csv', index=False)"
   ]
  },
  {
   "cell_type": "code",
   "execution_count": 27,
   "id": "8ddf5527",
   "metadata": {},
   "outputs": [
    {
     "name": "stdout",
     "output_type": "stream",
     "text": [
      "0.8993940414306806\n",
      "0.7399593435855478\n"
     ]
    }
   ],
   "source": [
    "gb_model3 = GradientBoostingRegressor(criterion='mse',\n",
    "                                     max_depth=7,\n",
    "                                     min_samples_leaf=10,\n",
    "                                     random_state=42,  \n",
    "                                     n_estimators=100)\n",
    "gb_model3.fit(X_train, y_train)\n",
    "\n",
    "\n",
    "y_train_preds = gb_model3.predict(X_train)\n",
    "y_test_preds = gb_model3.predict(X_test)\n",
    "\n",
    "print(r2(y_train, y_train_preds))\n",
    "print(r2(y_test, y_test_preds))"
   ]
  },
  {
   "cell_type": "code",
   "execution_count": 28,
   "id": "b0fbfd47",
   "metadata": {},
   "outputs": [],
   "source": [
    "submit = pd.read_csv('Data/sample_submission.csv')\n",
    "predictions = gb_model3.predict(test_df)\n",
    "submit['Price'] = predictions\n",
    "submit.to_csv('gb_model3_submit.csv', index=False)"
   ]
  }
 ],
 "metadata": {
  "kernelspec": {
   "display_name": "Python 3",
   "language": "python",
   "name": "python3"
  },
  "language_info": {
   "codemirror_mode": {
    "name": "ipython",
    "version": 3
   },
   "file_extension": ".py",
   "mimetype": "text/x-python",
   "name": "python",
   "nbconvert_exporter": "python",
   "pygments_lexer": "ipython3",
   "version": "3.8.8"
  }
 },
 "nbformat": 4,
 "nbformat_minor": 5
}
